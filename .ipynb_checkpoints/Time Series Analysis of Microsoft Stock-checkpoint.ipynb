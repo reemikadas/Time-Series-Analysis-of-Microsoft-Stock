{
 "cells": [
  {
   "cell_type": "markdown",
   "id": "b5b3faa6-324a-41e2-ba2b-bc8c3c31463a",
   "metadata": {},
   "source": [
    "# **Time Series Analysis of Microsoft Stock**"
   ]
  },
  {
   "cell_type": "markdown",
   "id": "997a3b20-d3e9-44d1-a3bd-7720c08500e5",
   "metadata": {},
   "source": [
    "## **Workflow of the Project**\n",
    "\n",
    "<ul>\n",
    "    <li>Data Collection and Loading</li>\n",
    "    <li>Exploratory Data Analysis (E.D.A.)</li>\n",
    "    <li>Feature Engineering</li>\n",
    "    <li>Data Preprocessing</li>\n",
    "    <li>Traditional Vs Non-Traditional Model Developments</li>\n",
    "    <li>Model Evaluation</li>\n",
    "    <li>Residual Analysis</li>\n",
    "    <li>Conclusion</li>\n",
    "</ul>"
   ]
  },
  {
   "cell_type": "markdown",
   "id": "58935d14-91ac-4174-8708-10445561bc92",
   "metadata": {},
   "source": [
    "### Importing the Dependencies"
   ]
  },
  {
   "cell_type": "code",
   "execution_count": 5,
   "id": "7ce96259-0a4b-47af-bfca-71b481f34628",
   "metadata": {},
   "outputs": [],
   "source": [
    "# Print all the outputs in a cell\n",
    "from IPython.core.interactiveshell import InteractiveShell\n",
    "InteractiveShell.ast_node_interactivity = \"all\"\n",
    "\n",
    "# Library for Warning Message\n",
    "import warnings\n",
    "warnings.simplefilter(\"ignore\")\n",
    "\n",
    "# Base Libraries\n",
    "import pandas as pd\n",
    "import numpy as np\n",
    "import matplotlib.pyplot as plt\n",
    "import seaborn as sns"
   ]
  }
 ],
 "metadata": {
  "kernelspec": {
   "display_name": "Python 3 (ipykernel)",
   "language": "python",
   "name": "python3"
  },
  "language_info": {
   "codemirror_mode": {
    "name": "ipython",
    "version": 3
   },
   "file_extension": ".py",
   "mimetype": "text/x-python",
   "name": "python",
   "nbconvert_exporter": "python",
   "pygments_lexer": "ipython3",
   "version": "3.12.2"
  }
 },
 "nbformat": 4,
 "nbformat_minor": 5
}
